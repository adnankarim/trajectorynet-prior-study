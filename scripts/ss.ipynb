{
 "cells": [
  {
   "cell_type": "code",
   "execution_count": null,
   "metadata": {},
   "outputs": [
    {
     "ename": "",
     "evalue": "",
     "output_type": "error",
     "traceback": [
      "\u001b[1;31mThe kernel failed to start as 'Self' could not be imported from '/usr/lib/python3/dist-packages/typing_extensions.py'.\n",
      "\u001b[1;31mClick <a href='https://aka.ms/kernelFailuresModuleImportErrFromFile'>here</a> for more info."
     ]
    }
   ],
   "source": [
    "#!/usr/bin/env python\n",
    "\"\"\"\n",
    "Visualise the synthetic TreeTestData manifold.\n",
    "\n",
    "◻ scatter coloured by time-point\n",
    "◻ quiver of the velocity vectors (sub-sampled)\n",
    "◻ a few reference paths returned by .get_paths()\n",
    "\"\"\"\n",
    "import numpy as np\n",
    "import matplotlib.pyplot as plt\n",
    "\n",
    "# ---------------------------------------------------------------------\n",
    "# 1.  Load the dataset -------------------------------------------------\n",
    "from dataset import TreeTestData            # adjust the import path if needed\n",
    "data   = TreeTestData()\n",
    "\n",
    "pts    = data.get_data()                    # (N,2)\n",
    "times  = data.get_times()                   # (N,)  values 0,1\n",
    "unique = np.unique(times)\n",
    "\n",
    "# ---------------------------------------------------------------------\n",
    "# 2.  Figure layout ----------------------------------------------------\n",
    "fig, axes = plt.subplots(1, 3, figsize=(12, 4), constrained_layout=True)\n",
    "\n",
    "# ------ (a) scatter per time-point -----------------------------------\n",
    "cmap   = {0: \"#183be0\",        # blue   ─ previous time\n",
    "          1: \"#ea7c28\"}        # orange ─ next   time\n",
    "for tp in unique:\n",
    "    msk = times == tp\n",
    "    axes[0].scatter(pts[msk,0], pts[msk,1],\n",
    "                    c=cmap[int(tp)], s=4, alpha=0.25, label=f\"t={tp}\")\n",
    "axes[0].set_title(\"Point cloud by time-point\")\n",
    "axes[0].legend(markerscale=3, frameon=False)\n",
    "axes[0].set_aspect(\"equal\"); axes[0].axis(\"off\")\n",
    "\n",
    "# ------ (b) velocity field -------------------------------------------\n",
    "if data.has_velocity():\n",
    "    vel = data.get_velocity()\n",
    "    idx = np.random.choice(data.get_ncells(), 700, replace=False)   # thin arrows\n",
    "    axes[1].quiver(pts[idx,0], pts[idx,1], vel[idx,0], vel[idx,1],\n",
    "                   angles='xy', scale_units='xy', scale=1.5,\n",
    "                   width=0.002, alpha=0.6, color=\"#444444\")\n",
    "    axes[1].set_title(\"Velocity vectors (sub-sampled)\")\n",
    "    axes[1].set_aspect(\"equal\"); axes[1].axis(\"off\")\n",
    "\n",
    "# ------ (c) reference paths ------------------------------------------\n",
    "paths = data.get_paths(n=1200, n_steps=3)   # shape (N,3,2)\n",
    "for p in paths[:400]:\n",
    "    axes[2].plot(p[:,0], p[:,1], alpha=0.25, linewidth=0.7,\n",
    "                 color=\"#555555\")\n",
    "axes[2].set_title(\"Ground-truth paths\")\n",
    "axes[2].set_aspect(\"equal\"); axes[2].axis(\"off\")\n",
    "\n",
    "plt.show()\n"
   ]
  },
  {
   "cell_type": "code",
   "execution_count": null,
   "metadata": {},
   "outputs": [
    {
     "ename": "",
     "evalue": "",
     "output_type": "error",
     "traceback": [
      "\u001b[1;31mThe kernel failed to start as 'Self' could not be imported from '/usr/lib/python3/dist-packages/typing_extensions.py'.\n",
      "\u001b[1;31mClick <a href='https://aka.ms/kernelFailuresModuleImportErrFromFile'>here</a> for more info."
     ]
    }
   ],
   "source": []
  }
 ],
 "metadata": {
  "kernelspec": {
   "display_name": "Python 3",
   "language": "python",
   "name": "python3"
  },
  "language_info": {
   "name": "python",
   "version": "3.10.12"
  }
 },
 "nbformat": 4,
 "nbformat_minor": 2
}
